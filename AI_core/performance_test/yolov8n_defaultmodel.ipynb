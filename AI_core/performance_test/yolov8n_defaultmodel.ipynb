{
 "cells": [
  {
   "cell_type": "code",
   "id": "initial_id",
   "metadata": {
    "collapsed": true,
    "ExecuteTime": {
     "end_time": "2025-10-02T09:06:10.781543Z",
     "start_time": "2025-10-02T09:06:10.113074Z"
    }
   },
   "source": [
    "!pip install ultralytics\n",
    "from ultralytics import YOLO\n",
    "model = YOLO(yolov8n.pt)\n",
    "model = model.infor()\n",
    "results = model.train(data=\"coco8.yaml\", epochs=150, imgsz=640)"
   ],
   "outputs": [
    {
     "ename": "AttributeError",
     "evalue": "module 'cv2.gapi' has no attribute 'wip'",
     "output_type": "error",
     "traceback": [
      "\u001B[31m---------------------------------------------------------------------------\u001B[39m",
      "\u001B[31mAttributeError\u001B[39m                            Traceback (most recent call last)",
      "\u001B[36mCell\u001B[39m\u001B[36m \u001B[39m\u001B[32mIn[8]\u001B[39m\u001B[32m, line 1\u001B[39m\n\u001B[32m----> \u001B[39m\u001B[32m1\u001B[39m \u001B[38;5;28;01mfrom\u001B[39;00m\u001B[38;5;250m \u001B[39m\u001B[34;01multralytics\u001B[39;00m\u001B[38;5;250m \u001B[39m\u001B[38;5;28;01mimport\u001B[39;00m YOLO\n\u001B[32m      2\u001B[39m model = YOLO(yolov8n.pt)\n\u001B[32m      4\u001B[39m model = model.info()\n",
      "\u001B[36mFile \u001B[39m\u001B[32m~\\AppData\\Local\\Packages\\PythonSoftwareFoundation.Python.3.13_qbz5n2kfra8p0\\LocalCache\\local-packages\\Python313\\site-packages\\ultralytics\\__init__.py:12\u001B[39m\n\u001B[32m      9\u001B[39m \u001B[38;5;28;01mif\u001B[39;00m \u001B[38;5;129;01mnot\u001B[39;00m os.environ.get(\u001B[33m\"\u001B[39m\u001B[33mOMP_NUM_THREADS\u001B[39m\u001B[33m\"\u001B[39m):\n\u001B[32m     10\u001B[39m     os.environ[\u001B[33m\"\u001B[39m\u001B[33mOMP_NUM_THREADS\u001B[39m\u001B[33m\"\u001B[39m] = \u001B[33m\"\u001B[39m\u001B[33m1\u001B[39m\u001B[33m\"\u001B[39m  \u001B[38;5;66;03m# default for reduced CPU utilization during training\u001B[39;00m\n\u001B[32m---> \u001B[39m\u001B[32m12\u001B[39m \u001B[38;5;28;01mfrom\u001B[39;00m\u001B[38;5;250m \u001B[39m\u001B[34;01multralytics\u001B[39;00m\u001B[34;01m.\u001B[39;00m\u001B[34;01mutils\u001B[39;00m\u001B[38;5;250m \u001B[39m\u001B[38;5;28;01mimport\u001B[39;00m ASSETS, SETTINGS\n\u001B[32m     13\u001B[39m \u001B[38;5;28;01mfrom\u001B[39;00m\u001B[38;5;250m \u001B[39m\u001B[34;01multralytics\u001B[39;00m\u001B[34;01m.\u001B[39;00m\u001B[34;01mutils\u001B[39;00m\u001B[34;01m.\u001B[39;00m\u001B[34;01mchecks\u001B[39;00m\u001B[38;5;250m \u001B[39m\u001B[38;5;28;01mimport\u001B[39;00m check_yolo \u001B[38;5;28;01mas\u001B[39;00m checks\n\u001B[32m     14\u001B[39m \u001B[38;5;28;01mfrom\u001B[39;00m\u001B[38;5;250m \u001B[39m\u001B[34;01multralytics\u001B[39;00m\u001B[34;01m.\u001B[39;00m\u001B[34;01mutils\u001B[39;00m\u001B[34;01m.\u001B[39;00m\u001B[34;01mdownloads\u001B[39;00m\u001B[38;5;250m \u001B[39m\u001B[38;5;28;01mimport\u001B[39;00m download\n",
      "\u001B[36mFile \u001B[39m\u001B[32m~\\AppData\\Local\\Packages\\PythonSoftwareFoundation.Python.3.13_qbz5n2kfra8p0\\LocalCache\\local-packages\\Python313\\site-packages\\ultralytics\\utils\\__init__.py:23\u001B[39m\n\u001B[32m     20\u001B[39m \u001B[38;5;28;01mfrom\u001B[39;00m\u001B[38;5;250m \u001B[39m\u001B[34;01mtypes\u001B[39;00m\u001B[38;5;250m \u001B[39m\u001B[38;5;28;01mimport\u001B[39;00m SimpleNamespace\n\u001B[32m     21\u001B[39m \u001B[38;5;28;01mfrom\u001B[39;00m\u001B[38;5;250m \u001B[39m\u001B[34;01murllib\u001B[39;00m\u001B[34;01m.\u001B[39;00m\u001B[34;01mparse\u001B[39;00m\u001B[38;5;250m \u001B[39m\u001B[38;5;28;01mimport\u001B[39;00m unquote\n\u001B[32m---> \u001B[39m\u001B[32m23\u001B[39m \u001B[38;5;28;01mimport\u001B[39;00m\u001B[38;5;250m \u001B[39m\u001B[34;01mcv2\u001B[39;00m\n\u001B[32m     24\u001B[39m \u001B[38;5;28;01mimport\u001B[39;00m\u001B[38;5;250m \u001B[39m\u001B[34;01mnumpy\u001B[39;00m\u001B[38;5;250m \u001B[39m\u001B[38;5;28;01mas\u001B[39;00m\u001B[38;5;250m \u001B[39m\u001B[34;01mnp\u001B[39;00m\n\u001B[32m     25\u001B[39m \u001B[38;5;28;01mimport\u001B[39;00m\u001B[38;5;250m \u001B[39m\u001B[34;01mtorch\u001B[39;00m\n",
      "\u001B[36mFile \u001B[39m\u001B[32m~\\AppData\\Local\\Packages\\PythonSoftwareFoundation.Python.3.13_qbz5n2kfra8p0\\LocalCache\\local-packages\\Python313\\site-packages\\cv2\\__init__.py:181\u001B[39m\n\u001B[32m    176\u001B[39m             \u001B[38;5;28;01mif\u001B[39;00m DEBUG: \u001B[38;5;28mprint\u001B[39m(\u001B[33m\"\u001B[39m\u001B[33mExtra Python code for\u001B[39m\u001B[33m\"\u001B[39m, submodule, \u001B[33m\"\u001B[39m\u001B[33mis loaded\u001B[39m\u001B[33m\"\u001B[39m)\n\u001B[32m    178\u001B[39m     \u001B[38;5;28;01mif\u001B[39;00m DEBUG: \u001B[38;5;28mprint\u001B[39m(\u001B[33m'\u001B[39m\u001B[33mOpenCV loader: DONE\u001B[39m\u001B[33m'\u001B[39m)\n\u001B[32m--> \u001B[39m\u001B[32m181\u001B[39m \u001B[43mbootstrap\u001B[49m\u001B[43m(\u001B[49m\u001B[43m)\u001B[49m\n",
      "\u001B[36mFile \u001B[39m\u001B[32m~\\AppData\\Local\\Packages\\PythonSoftwareFoundation.Python.3.13_qbz5n2kfra8p0\\LocalCache\\local-packages\\Python313\\site-packages\\cv2\\__init__.py:175\u001B[39m, in \u001B[36mbootstrap\u001B[39m\u001B[34m()\u001B[39m\n\u001B[32m    172\u001B[39m \u001B[38;5;28;01mif\u001B[39;00m DEBUG: \u001B[38;5;28mprint\u001B[39m(\u001B[33m'\u001B[39m\u001B[33mOpenCV loader: binary extension... OK\u001B[39m\u001B[33m'\u001B[39m)\n\u001B[32m    174\u001B[39m \u001B[38;5;28;01mfor\u001B[39;00m submodule \u001B[38;5;129;01min\u001B[39;00m __collect_extra_submodules(DEBUG):\n\u001B[32m--> \u001B[39m\u001B[32m175\u001B[39m     \u001B[38;5;28;01mif\u001B[39;00m \u001B[43m__load_extra_py_code_for_module\u001B[49m\u001B[43m(\u001B[49m\u001B[33;43m\"\u001B[39;49m\u001B[33;43mcv2\u001B[39;49m\u001B[33;43m\"\u001B[39;49m\u001B[43m,\u001B[49m\u001B[43m \u001B[49m\u001B[43msubmodule\u001B[49m\u001B[43m,\u001B[49m\u001B[43m \u001B[49m\u001B[43mDEBUG\u001B[49m\u001B[43m)\u001B[49m:\n\u001B[32m    176\u001B[39m         \u001B[38;5;28;01mif\u001B[39;00m DEBUG: \u001B[38;5;28mprint\u001B[39m(\u001B[33m\"\u001B[39m\u001B[33mExtra Python code for\u001B[39m\u001B[33m\"\u001B[39m, submodule, \u001B[33m\"\u001B[39m\u001B[33mis loaded\u001B[39m\u001B[33m\"\u001B[39m)\n\u001B[32m    178\u001B[39m \u001B[38;5;28;01mif\u001B[39;00m DEBUG: \u001B[38;5;28mprint\u001B[39m(\u001B[33m'\u001B[39m\u001B[33mOpenCV loader: DONE\u001B[39m\u001B[33m'\u001B[39m)\n",
      "\u001B[36mFile \u001B[39m\u001B[32m~\\AppData\\Local\\Packages\\PythonSoftwareFoundation.Python.3.13_qbz5n2kfra8p0\\LocalCache\\local-packages\\Python313\\site-packages\\cv2\\__init__.py:28\u001B[39m, in \u001B[36m__load_extra_py_code_for_module\u001B[39m\u001B[34m(base, name, enable_debug_print)\u001B[39m\n\u001B[32m     26\u001B[39m native_module = sys.modules.pop(module_name, \u001B[38;5;28;01mNone\u001B[39;00m)\n\u001B[32m     27\u001B[39m \u001B[38;5;28;01mtry\u001B[39;00m:\n\u001B[32m---> \u001B[39m\u001B[32m28\u001B[39m     py_module = \u001B[43mimportlib\u001B[49m\u001B[43m.\u001B[49m\u001B[43mimport_module\u001B[49m\u001B[43m(\u001B[49m\u001B[43mmodule_name\u001B[49m\u001B[43m)\u001B[49m\n\u001B[32m     29\u001B[39m \u001B[38;5;28;01mexcept\u001B[39;00m \u001B[38;5;167;01mImportError\u001B[39;00m \u001B[38;5;28;01mas\u001B[39;00m err:\n\u001B[32m     30\u001B[39m     \u001B[38;5;28;01mif\u001B[39;00m enable_debug_print:\n",
      "\u001B[36mFile \u001B[39m\u001B[32mC:\\Program Files\\WindowsApps\\PythonSoftwareFoundation.Python.3.13_3.13.2032.0_x64__qbz5n2kfra8p0\\Lib\\importlib\\__init__.py:88\u001B[39m, in \u001B[36mimport_module\u001B[39m\u001B[34m(name, package)\u001B[39m\n\u001B[32m     86\u001B[39m             \u001B[38;5;28;01mbreak\u001B[39;00m\n\u001B[32m     87\u001B[39m         level += \u001B[32m1\u001B[39m\n\u001B[32m---> \u001B[39m\u001B[32m88\u001B[39m \u001B[38;5;28;01mreturn\u001B[39;00m \u001B[43m_bootstrap\u001B[49m\u001B[43m.\u001B[49m\u001B[43m_gcd_import\u001B[49m\u001B[43m(\u001B[49m\u001B[43mname\u001B[49m\u001B[43m[\u001B[49m\u001B[43mlevel\u001B[49m\u001B[43m:\u001B[49m\u001B[43m]\u001B[49m\u001B[43m,\u001B[49m\u001B[43m \u001B[49m\u001B[43mpackage\u001B[49m\u001B[43m,\u001B[49m\u001B[43m \u001B[49m\u001B[43mlevel\u001B[49m\u001B[43m)\u001B[49m\n",
      "\u001B[36mFile \u001B[39m\u001B[32m~\\AppData\\Local\\Packages\\PythonSoftwareFoundation.Python.3.13_qbz5n2kfra8p0\\LocalCache\\local-packages\\Python313\\site-packages\\cv2\\typing\\__init__.py:177\u001B[39m\n\u001B[32m    175\u001B[39m GOptRunArg = _typing.Optional[GRunArg]\n\u001B[32m    176\u001B[39m GMetaArg = _typing.Union[cv2.GMat, Scalar, cv2.GOpaqueT, cv2.GArrayT]\n\u001B[32m--> \u001B[39m\u001B[32m177\u001B[39m Prim = _typing.Union[\u001B[43mcv2\u001B[49m\u001B[43m.\u001B[49m\u001B[43mgapi\u001B[49m\u001B[43m.\u001B[49m\u001B[43mwip\u001B[49m.draw.Text, cv2.gapi.wip.draw.Circle, cv2.gapi.wip.draw.Image, cv2.gapi.wip.draw.Line, cv2.gapi.wip.draw.Rect, cv2.gapi.wip.draw.Mosaic, cv2.gapi.wip.draw.Poly]\n\u001B[32m    178\u001B[39m GTypeInfo = _typing.Union[cv2.GMat, Scalar, cv2.GOpaqueT, cv2.GArrayT]\n\u001B[32m    179\u001B[39m ExtractArgsCallback = _typing.Callable[[_typing.Sequence[GTypeInfo]], _typing.Sequence[GRunArg]]\n",
      "\u001B[31mAttributeError\u001B[39m: module 'cv2.gapi' has no attribute 'wip'"
     ]
    }
   ],
   "execution_count": 8
  }
 ],
 "metadata": {
  "kernelspec": {
   "display_name": "Python 3",
   "language": "python",
   "name": "python3"
  },
  "language_info": {
   "codemirror_mode": {
    "name": "ipython",
    "version": 2
   },
   "file_extension": ".py",
   "mimetype": "text/x-python",
   "name": "python",
   "nbconvert_exporter": "python",
   "pygments_lexer": "ipython2",
   "version": "2.7.6"
  }
 },
 "nbformat": 4,
 "nbformat_minor": 5
}
